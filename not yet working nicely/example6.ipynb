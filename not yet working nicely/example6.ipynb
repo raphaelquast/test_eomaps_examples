{
 "cells": [
  {
   "cell_type": "code",
   "execution_count": 1,
   "metadata": {},
   "outputs": [],
   "source": [
    "# EOmaps example 6: WebMap services and layer-switching\n",
    "\n",
    "%matplotlib widget\n",
    "from eomaps import Maps\n",
    "import numpy as np\n",
    "import pandas as pd"
   ]
  },
  {
   "cell_type": "code",
   "execution_count": 2,
   "metadata": {},
   "outputs": [],
   "source": [
    "# create some data\n",
    "lon, lat = np.meshgrid(np.linspace(-50, 50, 150), np.linspace(30, 60, 150))\n",
    "data = pd.DataFrame(\n",
    "    dict(lon=lon.flat, lat=lat.flat, data=np.sqrt(lon**2 + lat**2).flat)\n",
    ")\n",
    "# --------------------------------"
   ]
  },
  {
   "cell_type": "code",
   "execution_count": null,
   "metadata": {},
   "outputs": [
    {
     "name": "stderr",
     "output_type": "stream",
     "text": [
      "D:\\python_modules\\eomaps\\eomaps\\eomaps.py:461: UserWarning: EOmaps disables matplotlib's interactive mode (e.g. 'plt.ioff()') when using the 'ipympl' backend to avoid recursions during callbacks!\n",
      "  \"EOmaps disables matplotlib's interactive mode (e.g. 'plt.ioff()') \"\n"
     ]
    },
    {
     "name": "stdout",
     "output_type": "stream",
     "text": [
      "EOmaps: Parameter was set to: 'data'\n"
     ]
    },
    {
     "data": {
      "text/plain": [
       "<matplotlib.widgets.Slider at 0x1d5b0566cc8>"
      ]
     },
     "execution_count": 3,
     "metadata": {},
     "output_type": "execute_result"
    },
    {
     "name": "stdout",
     "output_type": "stream",
     "text": [
      "HTTP Error 502: Bad GatewayHTTP Error 502: Bad GatewayHTTP Error 502: Bad Gateway\n",
      "\n",
      "\n",
      "HTTP Error 502: Bad Gateway\n",
      "HTTP Error 502: Bad Gateway\n",
      "HTTP Error 502: Bad GatewayHTTP Error 502: Bad GatewayHTTP Error 502: Bad Gateway\n",
      "\n",
      "\n",
      "HTTP Error 502: Bad Gateway\n",
      "HTTP Error 502: Bad Gateway\n",
      "HTTP Error 502: Bad GatewayHTTP Error 502: Bad Gateway\n",
      "\n",
      "HTTP Error 502: Bad Gateway\n",
      "HTTP Error 502: Bad Gateway\n",
      "HTTP Error 502: Bad Gateway\n",
      "HTTP Error 502: Bad GatewayHTTP Error 502: Bad GatewayHTTP Error 502: Bad Gateway\n",
      "\n",
      "\n"
     ]
    }
   ],
   "source": [
    "m = Maps(Maps.CRS.GOOGLE_MERCATOR, layer=\"S1GBM_vv\")\n",
    "# set the crs to GOOGLE_MERCATOR to avoid reprojecting the WebMap data\n",
    "# (makes it a lot faster and it will also look much nicer!)\n",
    "# ------------- LAYER 0\n",
    "# add S1GBM as a base-layer\n",
    "wms1 = m.add_wms.S1GBM\n",
    "wms1.add_layer.vv()\n",
    "\n",
    "# ------------- LAYER 1\n",
    "# if you just want to add features, you can do it within the same Maps-object!\n",
    "# add OpenStreetMap on the currently invisible layer (1)\n",
    "wms2 = m.add_wms.OpenStreetMap  # .OSM_mundialis\n",
    "wms2.add_layer.default(layer=\"OSM\")\n",
    "\n",
    "# ------------- LAYER 2\n",
    "# create a connected maps-object and plot some data on a new layer (2)\n",
    "m2 = m.new_layer(layer=\"data\")\n",
    "m2.set_data(data=data.sample(5000), xcoord=\"lon\", ycoord=\"lat\", crs=4326)\n",
    "m2.set_shape.geod_circles(radius=20000)\n",
    "m2.plot_map()\n",
    "\n",
    "# ------------ CALLBACKS\n",
    "# on a left-click, show layer 1 in a rectangle (with a size of 20% of the axis)\n",
    "m.cb.click.attach.peek_layer(layer=[\"data\", \"OSM\"], how=(0.2, 0.2))\n",
    "\n",
    "# on a right-click, \"swipe\" layer (2) from the left\n",
    "m.cb.click.attach.peek_layer(\n",
    "    layer=[\"data\", \"S1GBM_vv\"], how=\"left\", button=3, overlay=True\n",
    ")\n",
    "\n",
    "\n",
    "m.cb.keypress.attach.switch_layer(layer=\"S1GBM_vv\", key=\"0\")\n",
    "m.cb.keypress.attach.switch_layer(layer=\"OSM\", key=\"1\")\n",
    "m.cb.keypress.attach.switch_layer(layer=\"data\", key=\"2\")\n",
    "\n",
    "# ------------------------------\n",
    "m.figure.f.set_size_inches(9, 4)\n",
    "m.figure.gridspec.update(left=0.01, right=0.99, bottom=0.01, top=0.99)\n",
    "\n",
    "m.add_logo()\n",
    "\n",
    "# add a utility-widget for switching the layers\n",
    "m.util.layer_selector(loc=\"upper left\", ncol=3, bbox_to_anchor=(0.01, 0.99))\n",
    "\n",
    "m.util.layer_slider(\n",
    "    pos=(0.5, 0.93, 0.38, 0.025),\n",
    "    color=\"r\",\n",
    "    handle_style=dict(facecolor=\"r\"),\n",
    "    txt_patch_props=dict(fc=\"w\", ec=\"none\", alpha=0.75, boxstyle=\"round, pad=.25\"),\n",
    ")"
   ]
  }
 ],
 "metadata": {
  "kernelspec": {
   "display_name": "Python 3 (ipykernel)",
   "language": "python",
   "name": "python3"
  },
  "language_info": {
   "codemirror_mode": {
    "name": "ipython",
    "version": 3
   },
   "file_extension": ".py",
   "mimetype": "text/x-python",
   "name": "python",
   "nbconvert_exporter": "python",
   "pygments_lexer": "ipython3",
   "version": "3.7.12"
  }
 },
 "nbformat": 4,
 "nbformat_minor": 4
}
